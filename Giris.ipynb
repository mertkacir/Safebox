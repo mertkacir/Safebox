{
 "cells": [
  {
   "cell_type": "code",
   "execution_count": 2,
   "metadata": {},
   "outputs": [
    {
     "name": "stdout",
     "output_type": "stream",
     "text": [
      "Giriş başarısız!\n"
     ]
    }
   ],
   "source": [
    "def giris():\n",
    "    kullanici_adi = input(\"Kullanıcı Adı: \")\n",
    "    sifre = input(\"Şifre: \")\n",
    "\n",
    "    with open(\"D:\\kullanici_bilgileri.txt\", \"r\") as dosya:\n",
    "        for satir in dosya:\n",
    "            bilgiler = satir.strip().split(\",\")\n",
    "            if bilgiler[0] == kullanici_adi and bilgiler[1] == sifre:\n",
    "                print(\"Giriş yapıldı!\")\n",
    "                return\n",
    "\n",
    "    print(\"Giriş başarısız!\")\n",
    "\n",
    "\n",
    "# giris() fonksiyonunu çağırarak kullanıcıdan bilgileri alın\n",
    "giris()\n"
   ]
  }
 ],
 "metadata": {
  "kernelspec": {
   "display_name": "Python 3",
   "language": "python",
   "name": "python3"
  },
  "language_info": {
   "codemirror_mode": {
    "name": "ipython",
    "version": 3
   },
   "file_extension": ".py",
   "mimetype": "text/x-python",
   "name": "python",
   "nbconvert_exporter": "python",
   "pygments_lexer": "ipython3",
   "version": "3.11.3"
  },
  "orig_nbformat": 4
 },
 "nbformat": 4,
 "nbformat_minor": 2
}
